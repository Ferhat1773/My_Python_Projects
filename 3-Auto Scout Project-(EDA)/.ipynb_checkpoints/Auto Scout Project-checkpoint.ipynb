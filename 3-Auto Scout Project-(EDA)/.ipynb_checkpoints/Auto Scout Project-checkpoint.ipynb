{
 "cells": [
  {
   "cell_type": "markdown",
   "metadata": {},
   "source": [
    "# Exploratory Data Analysis Project"
   ]
  },
  {
   "cell_type": "markdown",
   "metadata": {},
   "source": [
    "<blockquote style=\"background: #f9f9f9;padding: 0.5em 10px;\" class=\"\">\n",
    "<img src=\"https://docs.google.com/uc?id=1FOcuE9AkAqc0JU6dUly-cuoUg3bOp92H\" class=\"img-fluid\" width=\"200\" height=\"85\"> <h1>EDA for Car Price Prediction Model</h1>\n",
    "</blockquote>"
   ]
  },
  {
   "cell_type": "code",
   "execution_count": 1,
   "metadata": {},
   "outputs": [],
   "source": [
    "import pandas as pd\n",
    "import numpy as np\n",
    "import warnings \n",
    "\n",
    "pd.set_option('display.max_columns', 500)\n",
    "pd.set_option('display.max_colwidth', 500)\n",
    "pd.set_option('display.max_info_columns', 500)\n",
    "pd.set_option('display.max_info_rows', 2000)\n",
    "pd.set_option('display.expand_frame_repr', True)\n",
    "pd.set_option('display.width', 2000)\n",
    "\n",
    "warnings.filterwarnings(\"ignore\")\n",
    "warnings.warn(\"this will not show\")"
   ]
  },
  {
   "cell_type": "code",
   "execution_count": 2,
   "metadata": {},
   "outputs": [],
   "source": [
    "oto = pd.read_json(\"scout_car.json\", orient = \"records\", lines = True)"
   ]
  },
  {
   "cell_type": "code",
   "execution_count": 3,
   "metadata": {},
   "outputs": [
    {
     "data": {
      "text/html": [
       "<div>\n",
       "<style scoped>\n",
       "    .dataframe tbody tr th:only-of-type {\n",
       "        vertical-align: middle;\n",
       "    }\n",
       "\n",
       "    .dataframe tbody tr th {\n",
       "        vertical-align: top;\n",
       "    }\n",
       "\n",
       "    .dataframe thead th {\n",
       "        text-align: right;\n",
       "    }\n",
       "</style>\n",
       "<table border=\"1\" class=\"dataframe\">\n",
       "  <thead>\n",
       "    <tr style=\"text-align: right;\">\n",
       "      <th></th>\n",
       "      <th>url</th>\n",
       "      <th>make_model</th>\n",
       "      <th>short_description</th>\n",
       "      <th>body_type</th>\n",
       "      <th>price</th>\n",
       "      <th>vat</th>\n",
       "      <th>km</th>\n",
       "      <th>registration</th>\n",
       "      <th>prev_owner</th>\n",
       "      <th>kW</th>\n",
       "      <th>hp</th>\n",
       "      <th>Type</th>\n",
       "      <th>Previous Owners</th>\n",
       "      <th>Next Inspection</th>\n",
       "      <th>Inspection new</th>\n",
       "      <th>Warranty</th>\n",
       "      <th>Full Service</th>\n",
       "      <th>Non-smoking Vehicle</th>\n",
       "      <th>null</th>\n",
       "      <th>Make</th>\n",
       "      <th>Model</th>\n",
       "      <th>Offer Number</th>\n",
       "      <th>First Registration</th>\n",
       "      <th>Body Color</th>\n",
       "      <th>Paint Type</th>\n",
       "      <th>Body Color Original</th>\n",
       "      <th>Upholstery</th>\n",
       "      <th>Body</th>\n",
       "      <th>Nr. of Doors</th>\n",
       "      <th>Nr. of Seats</th>\n",
       "      <th>Model Code</th>\n",
       "      <th>Gearing Type</th>\n",
       "      <th>Displacement</th>\n",
       "      <th>Cylinders</th>\n",
       "      <th>Weight</th>\n",
       "      <th>Drive chain</th>\n",
       "      <th>Fuel</th>\n",
       "      <th>Consumption</th>\n",
       "      <th>CO2 Emission</th>\n",
       "      <th>Emission Class</th>\n",
       "      <th>\\nComfort &amp; Convenience\\n</th>\n",
       "      <th>\\nEntertainment &amp; Media\\n</th>\n",
       "      <th>\\nExtras\\n</th>\n",
       "      <th>\\nSafety &amp; Security\\n</th>\n",
       "      <th>description</th>\n",
       "      <th>Emission Label</th>\n",
       "      <th>Gears</th>\n",
       "      <th>Country version</th>\n",
       "      <th>Electricity consumption</th>\n",
       "      <th>Last Service Date</th>\n",
       "      <th>Other Fuel Types</th>\n",
       "      <th>Availability</th>\n",
       "      <th>Last Timing Belt Service Date</th>\n",
       "      <th>Available from</th>\n",
       "    </tr>\n",
       "  </thead>\n",
       "  <tbody>\n",
       "    <tr>\n",
       "      <td>0</td>\n",
       "      <td>https://www.autoscout24.com//offers/audi-a1-sportback-1-4-tdi-s-tronic-xenon-navi-klima-diesel-black-bdab349a-caa5-41b0-98eb-c1345b84445e</td>\n",
       "      <td>Audi A1</td>\n",
       "      <td>Sportback 1.4 TDI S-tronic Xenon Navi Klima</td>\n",
       "      <td>Sedans</td>\n",
       "      <td>15770</td>\n",
       "      <td>VAT deductible</td>\n",
       "      <td>56,013 km</td>\n",
       "      <td>01/2016</td>\n",
       "      <td>2 previous owners</td>\n",
       "      <td>NaN</td>\n",
       "      <td>66 kW</td>\n",
       "      <td>[, Used, , Diesel (Particulate Filter)]</td>\n",
       "      <td>\\n2\\n</td>\n",
       "      <td>[\\n06/2021\\n, \\n99 g CO2/km (comb)\\n]</td>\n",
       "      <td>[\\nYes\\n, \\nEuro 6\\n]</td>\n",
       "      <td>[\\n, \\n, \\n4 (Green)\\n]</td>\n",
       "      <td>[\\n, \\n]</td>\n",
       "      <td>[\\n, \\n]</td>\n",
       "      <td>[]</td>\n",
       "      <td>\\nAudi\\n</td>\n",
       "      <td>[\\n, A1, \\n]</td>\n",
       "      <td>[\\nLR-062483\\n]</td>\n",
       "      <td>[\\n, 2016, \\n]</td>\n",
       "      <td>[\\n, Black, \\n]</td>\n",
       "      <td>[\\nMetallic\\n]</td>\n",
       "      <td>[\\nMythosschwarz\\n]</td>\n",
       "      <td>[\\nCloth, Black\\n]</td>\n",
       "      <td>[\\n, Sedans, \\n]</td>\n",
       "      <td>[\\n5\\n]</td>\n",
       "      <td>[\\n5\\n]</td>\n",
       "      <td>[\\n0588/BDF\\n]</td>\n",
       "      <td>[\\n, Automatic, \\n]</td>\n",
       "      <td>[\\n1,422 cc\\n]</td>\n",
       "      <td>[\\n3\\n]</td>\n",
       "      <td>[\\n1,220 kg\\n]</td>\n",
       "      <td>[\\nfront\\n]</td>\n",
       "      <td>[\\n, Diesel (Particulate Filter), \\n]</td>\n",
       "      <td>[[3.8 l/100 km (comb)], [4.3 l/100 km (city)], [3.5 l/100 km (country)]]</td>\n",
       "      <td>[\\n99 g CO2/km (comb)\\n]</td>\n",
       "      <td>[\\nEuro 6\\n]</td>\n",
       "      <td>[Air conditioning, Armrest, Automatic climate control, Cruise control, Electrical side mirrors, Hill Holder, Leather steering wheel, Light sensor, Multi-function steering wheel, Navigation system, Park Distance Control, Parking assist system sensors rear, Power windows, Rain sensor, Seat heating, Start-stop system]</td>\n",
       "      <td>[Bluetooth, Hands-free equipment, On-board computer, Radio]</td>\n",
       "      <td>[Alloy wheels, Catalytic Converter, Voice Control]</td>\n",
       "      <td>[ABS, Central door lock, Daytime running lights, Driver-side airbag, Electronic stability control, Fog lights, Immobilizer, Isofix, Passenger-side airbag, Power steering, Side airbag, Tire pressure monitoring system, Traction control, Xenon headlights]</td>\n",
       "      <td>[\\n, Sicherheit:,  , Deaktivierung für Beifahrer-Airbag,  , ESC mit elektronischer Quersperre,  , Tagfahrlicht,  , Reifendruck-Kontrollanzeige,  , Kopfairbag-System mit Seiten-Airbags vorn,  , Sicherheitslenksäule, Assistenzsysteme:,  , Berganfahrassistent, Komfort:,  , Scheinwerferreinigung,  , Xenon plus inklusive Scheinwerfer-Reinigungsanlage,  , Scheinwerfer-Reinigungsanlage,  , Einparkhilfe hinten,  , Licht-/Regensensor,  , Funkfernbedienung,  , Elektrische Luftzusatzheizung, Interieur:...</td>\n",
       "      <td>NaN</td>\n",
       "      <td>NaN</td>\n",
       "      <td>NaN</td>\n",
       "      <td>NaN</td>\n",
       "      <td>NaN</td>\n",
       "      <td>NaN</td>\n",
       "      <td>NaN</td>\n",
       "      <td>NaN</td>\n",
       "      <td>NaN</td>\n",
       "    </tr>\n",
       "    <tr>\n",
       "      <td>1</td>\n",
       "      <td>https://www.autoscout24.com//offers/audi-a1-1-8-tfsi-sport-gasoline-red-b2547f8a-e83f-6237-e053-e250040a56df</td>\n",
       "      <td>Audi A1</td>\n",
       "      <td>1.8 TFSI sport</td>\n",
       "      <td>Sedans</td>\n",
       "      <td>14500</td>\n",
       "      <td>Price negotiable</td>\n",
       "      <td>80,000 km</td>\n",
       "      <td>03/2017</td>\n",
       "      <td>None</td>\n",
       "      <td>NaN</td>\n",
       "      <td>141 kW</td>\n",
       "      <td>[, Used, , Gasoline]</td>\n",
       "      <td>NaN</td>\n",
       "      <td>NaN</td>\n",
       "      <td>NaN</td>\n",
       "      <td>NaN</td>\n",
       "      <td>NaN</td>\n",
       "      <td>NaN</td>\n",
       "      <td>[]</td>\n",
       "      <td>\\nAudi\\n</td>\n",
       "      <td>[\\n, A1, \\n]</td>\n",
       "      <td>NaN</td>\n",
       "      <td>[\\n, 2017, \\n]</td>\n",
       "      <td>[\\n, Red, \\n]</td>\n",
       "      <td>NaN</td>\n",
       "      <td>NaN</td>\n",
       "      <td>[\\nCloth, Grey\\n]</td>\n",
       "      <td>[\\n, Sedans, \\n]</td>\n",
       "      <td>[\\n3\\n]</td>\n",
       "      <td>[\\n4\\n]</td>\n",
       "      <td>[\\n0588/BCY\\n]</td>\n",
       "      <td>[\\n, Automatic, \\n]</td>\n",
       "      <td>[\\n1,798 cc\\n]</td>\n",
       "      <td>[\\n4\\n]</td>\n",
       "      <td>[\\n1,255 kg\\n]</td>\n",
       "      <td>[\\nfront\\n]</td>\n",
       "      <td>[\\n, Gasoline, \\n]</td>\n",
       "      <td>[[5.6 l/100 km (comb)], [7.1 l/100 km (city)], [4.7 l/100 km (country)]]</td>\n",
       "      <td>[\\n129 g CO2/km (comb)\\n]</td>\n",
       "      <td>[\\nEuro 6\\n]</td>\n",
       "      <td>[Air conditioning, Automatic climate control, Hill Holder, Leather steering wheel, Lumbar support, Parking assist system sensors rear, Power windows, Start-stop system, Tinted windows]</td>\n",
       "      <td>[Bluetooth, Hands-free equipment, On-board computer, Radio, Sound system]</td>\n",
       "      <td>[Alloy wheels, Sport seats, Sport suspension, Voice Control]</td>\n",
       "      <td>[ABS, Central door lock, Central door lock with remote control, Daytime running lights, Driver-side airbag, Electronic stability control, Head airbag, Immobilizer, Isofix, Passenger-side airbag, Power steering, Side airbag, Tire pressure monitoring system, Traction control, Xenon headlights]</td>\n",
       "      <td>[\\nLangstreckenfahrzeug daher die hohe Kilometerleistung. , Bremsen neu bei 62000 km. , Gut gepflegter A1\\n]</td>\n",
       "      <td>[\\n4 (Green)\\n]</td>\n",
       "      <td>[\\n7\\n]</td>\n",
       "      <td>NaN</td>\n",
       "      <td>NaN</td>\n",
       "      <td>NaN</td>\n",
       "      <td>NaN</td>\n",
       "      <td>NaN</td>\n",
       "      <td>NaN</td>\n",
       "      <td>NaN</td>\n",
       "    </tr>\n",
       "    <tr>\n",
       "      <td>2</td>\n",
       "      <td>https://www.autoscout24.com//offers/audi-a1-sportback-1-6-tdi-s-tronic-einparkhilfe-plus-music-diesel-black-6183cb6a-8570-4b86-a132-9b54214bca88</td>\n",
       "      <td>Audi A1</td>\n",
       "      <td>Sportback 1.6 TDI S tronic Einparkhilfe plus+music</td>\n",
       "      <td>Sedans</td>\n",
       "      <td>14640</td>\n",
       "      <td>VAT deductible</td>\n",
       "      <td>83,450 km</td>\n",
       "      <td>02/2016</td>\n",
       "      <td>1 previous owner</td>\n",
       "      <td>NaN</td>\n",
       "      <td>85 kW</td>\n",
       "      <td>[, Used, , Diesel (Particulate Filter)]</td>\n",
       "      <td>\\n1\\n</td>\n",
       "      <td>NaN</td>\n",
       "      <td>NaN</td>\n",
       "      <td>[\\n, \\n, \\n99 g CO2/km (comb)\\n]</td>\n",
       "      <td>NaN</td>\n",
       "      <td>NaN</td>\n",
       "      <td>[]</td>\n",
       "      <td>\\nAudi\\n</td>\n",
       "      <td>[\\n, A1, \\n]</td>\n",
       "      <td>[\\nAM-95365\\n]</td>\n",
       "      <td>[\\n, 2016, \\n]</td>\n",
       "      <td>[\\n, Black, \\n]</td>\n",
       "      <td>[\\nMetallic\\n]</td>\n",
       "      <td>[\\nmythosschwarz metallic\\n]</td>\n",
       "      <td>[\\nCloth, Black\\n]</td>\n",
       "      <td>[\\n, Sedans, \\n]</td>\n",
       "      <td>[\\n4\\n]</td>\n",
       "      <td>[\\n4\\n]</td>\n",
       "      <td>NaN</td>\n",
       "      <td>[\\n, Automatic, \\n]</td>\n",
       "      <td>[\\n1,598 cc\\n]</td>\n",
       "      <td>NaN</td>\n",
       "      <td>NaN</td>\n",
       "      <td>[\\nfront\\n]</td>\n",
       "      <td>[\\n, Diesel (Particulate Filter), \\n]</td>\n",
       "      <td>[[3.8 l/100 km (comb)], [4.4 l/100 km (city)], [3.4 l/100 km (country)]]</td>\n",
       "      <td>[\\n99 g CO2/km (comb)\\n]</td>\n",
       "      <td>[\\nEuro 6\\n]</td>\n",
       "      <td>[Air conditioning, Cruise control, Electrical side mirrors, Hill Holder, Leather steering wheel, Multi-function steering wheel, Navigation system, Park Distance Control, Parking assist system sensors front, Parking assist system sensors rear, Power windows, Seat heating, Start-stop system]</td>\n",
       "      <td>[MP3, On-board computer]</td>\n",
       "      <td>[Alloy wheels, Voice Control]</td>\n",
       "      <td>[ABS, Central door lock, Daytime running lights, Driver-side airbag, Electronic stability control, Immobilizer, Isofix, Passenger-side airbag, Power steering, Side airbag, Tire pressure monitoring system, Traction control]</td>\n",
       "      <td>[\\n, Fahrzeug-Nummer: AM-95365,  , Ehem. UPE 24.640 EUR,  , Komfort,  , Klimaanlage,  , Elektrische Fensterheber,  , Sitzheizung,  , Tempomat,  , Zentralverriegelung,  , Leder-Lenkrad,  , Elektrische Spiegel,  , Wärmedämmendes Glas,  , Anfahrassistent,  , Sicherheit,  , Window/Kopfairbags,  , ESP (el. Stabilitäts Programm),  , Elektronische Wegfahrsperre,  , Reifendruckkontrolle,  , Tagfahrlicht,  , Exterieur,  , Alufelgen 16 Zoll,  , Einparkhilfe vo + hi,  , Interieur,  , Stoff Zeitgeist,  ...</td>\n",
       "      <td>[\\n4 (Green)\\n]</td>\n",
       "      <td>NaN</td>\n",
       "      <td>NaN</td>\n",
       "      <td>NaN</td>\n",
       "      <td>NaN</td>\n",
       "      <td>NaN</td>\n",
       "      <td>NaN</td>\n",
       "      <td>NaN</td>\n",
       "      <td>NaN</td>\n",
       "    </tr>\n",
       "    <tr>\n",
       "      <td>3</td>\n",
       "      <td>https://www.autoscout24.com//offers/audi-a1-1-4-tdi-design-s-tronic-diesel-brown-35c86585-2727-d61e-e053-e250040ad640</td>\n",
       "      <td>Audi A1</td>\n",
       "      <td>1.4 TDi Design S tronic</td>\n",
       "      <td>Sedans</td>\n",
       "      <td>14500</td>\n",
       "      <td>None</td>\n",
       "      <td>73,000 km</td>\n",
       "      <td>08/2016</td>\n",
       "      <td>1 previous owner</td>\n",
       "      <td>NaN</td>\n",
       "      <td>66 kW</td>\n",
       "      <td>[, Used, , Diesel (Particulate Filter)]</td>\n",
       "      <td>\\n1\\n</td>\n",
       "      <td>NaN</td>\n",
       "      <td>NaN</td>\n",
       "      <td>NaN</td>\n",
       "      <td>[\\n, \\n, \\n99 g CO2/km (comb)\\n]</td>\n",
       "      <td>[\\n, \\n, \\nEuro 6\\n]</td>\n",
       "      <td>[]</td>\n",
       "      <td>\\nAudi\\n</td>\n",
       "      <td>[\\n, A1, \\n]</td>\n",
       "      <td>NaN</td>\n",
       "      <td>[\\n, 2016, \\n]</td>\n",
       "      <td>[\\n, Brown, \\n]</td>\n",
       "      <td>[\\nMetallic\\n]</td>\n",
       "      <td>NaN</td>\n",
       "      <td>NaN</td>\n",
       "      <td>[\\n, Sedans, \\n]</td>\n",
       "      <td>[\\n3\\n]</td>\n",
       "      <td>[\\n4\\n]</td>\n",
       "      <td>NaN</td>\n",
       "      <td>[\\n, Automatic, \\n]</td>\n",
       "      <td>[\\n1,422 cc\\n]</td>\n",
       "      <td>[\\n3\\n]</td>\n",
       "      <td>[\\n1,195 kg\\n]</td>\n",
       "      <td>NaN</td>\n",
       "      <td>[\\n, Diesel (Particulate Filter), \\n]</td>\n",
       "      <td>[[3.8 l/100 km (comb)], [4.3 l/100 km (city)], [3.5 l/100 km (country)]]</td>\n",
       "      <td>[\\n99 g CO2/km (comb)\\n]</td>\n",
       "      <td>[\\nEuro 6\\n]</td>\n",
       "      <td>[Air suspension, Armrest, Auxiliary heating, Electrical side mirrors, Heads-up display, Hill Holder, Leather steering wheel, Light sensor, Lumbar support, Multi-function steering wheel, Navigation system, Power windows, Rain sensor, Seat heating, Split rear seats, Start-stop system]</td>\n",
       "      <td>[Bluetooth, CD player, Hands-free equipment, MP3, On-board computer, Radio, Sound system, USB]</td>\n",
       "      <td>[Alloy wheels, Sport seats, Voice Control]</td>\n",
       "      <td>[ABS, Alarm system, Central door lock with remote control, Driver drowsiness detection, Driver-side airbag, Electronic stability control, Emergency system, Head airbag, Immobilizer, Isofix, Passenger-side airbag, Power steering, Side airbag, Tire pressure monitoring system]</td>\n",
       "      <td>[\\nAudi A1: , - 1e eigenaar , - Perfecte staat: schade/ongevalvrij , - Onderhoudsboekje Audi garage , - Full option!, - S-line opties, - Automaat, lederen bekleding, navi-pro, Xenon lampen, zetelverwarming, automatische airco,...\\n]</td>\n",
       "      <td>NaN</td>\n",
       "      <td>[\\n6\\n]</td>\n",
       "      <td>NaN</td>\n",
       "      <td>NaN</td>\n",
       "      <td>NaN</td>\n",
       "      <td>NaN</td>\n",
       "      <td>NaN</td>\n",
       "      <td>NaN</td>\n",
       "      <td>NaN</td>\n",
       "    </tr>\n",
       "    <tr>\n",
       "      <td>4</td>\n",
       "      <td>https://www.autoscout24.com//offers/audi-a1-sportback-1-4-tdi-s-tronic-s-line-ext-admired-xe-diesel-black-b86b55d8-9c7c-4a58-b658-b97008a51efc</td>\n",
       "      <td>Audi A1</td>\n",
       "      <td>Sportback 1.4 TDI S-Tronic S-Line Ext. admired, Xe</td>\n",
       "      <td>Sedans</td>\n",
       "      <td>16790</td>\n",
       "      <td>None</td>\n",
       "      <td>16,200 km</td>\n",
       "      <td>05/2016</td>\n",
       "      <td>1 previous owner</td>\n",
       "      <td>NaN</td>\n",
       "      <td>66 kW</td>\n",
       "      <td>[, Used, , Diesel (Particulate Filter)]</td>\n",
       "      <td>\\n1\\n</td>\n",
       "      <td>NaN</td>\n",
       "      <td>[\\nYes\\n, \\n109 g CO2/km (comb)\\n]</td>\n",
       "      <td>[\\n, \\n, \\nEuro 6\\n]</td>\n",
       "      <td>[\\n, \\n, \\n4 (Green)\\n]</td>\n",
       "      <td>[\\n, \\n]</td>\n",
       "      <td>[]</td>\n",
       "      <td>\\nAudi\\n</td>\n",
       "      <td>[\\n, A1, \\n]</td>\n",
       "      <td>[\\nC1626\\n]</td>\n",
       "      <td>[\\n, 2016, \\n]</td>\n",
       "      <td>[\\n, Black, \\n]</td>\n",
       "      <td>[\\nMetallic\\n]</td>\n",
       "      <td>[\\nMythosschwarz Metallic\\n]</td>\n",
       "      <td>[\\nCloth, Black\\n]</td>\n",
       "      <td>[\\n, Sedans, \\n]</td>\n",
       "      <td>[\\n5\\n]</td>\n",
       "      <td>[\\n5\\n]</td>\n",
       "      <td>[\\n0588/BDF\\n]</td>\n",
       "      <td>[\\n, Automatic, \\n]</td>\n",
       "      <td>[\\n1,422 cc\\n]</td>\n",
       "      <td>[\\n3\\n]</td>\n",
       "      <td>NaN</td>\n",
       "      <td>[\\nfront\\n]</td>\n",
       "      <td>[\\n, Diesel (Particulate Filter), \\n]</td>\n",
       "      <td>[[4.1 l/100 km (comb)], [4.6 l/100 km (city)], [3.8 l/100 km (country)]]</td>\n",
       "      <td>[\\n109 g CO2/km (comb)\\n]</td>\n",
       "      <td>[\\nEuro 6\\n]</td>\n",
       "      <td>[Air conditioning, Armrest, Automatic climate control, Electrical side mirrors, Hill Holder, Leather steering wheel, Light sensor, Multi-function steering wheel, Park Distance Control, Parking assist system sensors rear, Power windows, Rain sensor, Start-stop system]</td>\n",
       "      <td>[Bluetooth, CD player, Hands-free equipment, MP3, On-board computer, Radio, USB]</td>\n",
       "      <td>[Alloy wheels, Sport package, Sport suspension, Voice Control]</td>\n",
       "      <td>[ABS, Central door lock, Driver-side airbag, Electronic stability control, Fog lights, Immobilizer, Isofix, Passenger-side airbag, Power steering, Side airbag, Tire pressure monitoring system, Traction control, Xenon headlights]</td>\n",
       "      <td>[\\n, Technik &amp; Sicherheit:, Xenon plus, Klimaautomatik, Einparkhilfe hinten, Scheinwerferreinigungsanlage, Nebelscheinwerfer, Zentralverriegelung mit Fernbedienung, Außenspiegel elek. einstellbar, Fensterheber elek, Start/Stop Anlage, 6 Airbag inkl. Kopfairbag, Euro 6, Multimedia:, Radio CD Concert, audi music interface, Handyvorbereitung (Bluetooth), Sprachsteuerung, USB Anschluss, Assistenzsysteme:, Lichtsensor, Regensensor, Berganfahrassistent, Reifendruckkontrolle, ESP inkl. ABS, Interie...</td>\n",
       "      <td>NaN</td>\n",
       "      <td>NaN</td>\n",
       "      <td>[\\nGermany\\n]</td>\n",
       "      <td>NaN</td>\n",
       "      <td>NaN</td>\n",
       "      <td>NaN</td>\n",
       "      <td>NaN</td>\n",
       "      <td>NaN</td>\n",
       "      <td>NaN</td>\n",
       "    </tr>\n",
       "  </tbody>\n",
       "</table>\n",
       "</div>"
      ],
      "text/plain": [
       "                                                                                                                                                url make_model                                   short_description body_type  price               vat         km registration         prev_owner  kW      hp                                     Type Previous Owners                        Next Inspection                      Inspection new                          Warranty                      Full Service   Non-smoking Vehicle null      Make         Model     Offer Number First Registration       Body Color      Paint Type           Body Color Original          Upholstery              Body Nr. of Doors Nr. of Seats      Model Code         Gearing Type    Displacement Cylinders          Weight  Drive chain                                   Fuel                                                               Consumption               CO2 Emission Emission Class                                                                                                                                                                                                                                                                                                     \\nComfort & Convenience\\n                                                                       \\nEntertainment & Media\\n                                                      \\nExtras\\n                                                                                                                                                                                                                                                                                 \\nSafety & Security\\n  \\\n",
       "0         https://www.autoscout24.com//offers/audi-a1-sportback-1-4-tdi-s-tronic-xenon-navi-klima-diesel-black-bdab349a-caa5-41b0-98eb-c1345b84445e    Audi A1         Sportback 1.4 TDI S-tronic Xenon Navi Klima    Sedans  15770    VAT deductible  56,013 km      01/2016  2 previous owners NaN   66 kW  [, Used, , Diesel (Particulate Filter)]           \\n2\\n  [\\n06/2021\\n, \\n99 g CO2/km (comb)\\n]               [\\nYes\\n, \\nEuro 6\\n]           [\\n, \\n, \\n4 (Green)\\n]                          [\\n, \\n]              [\\n, \\n]   []  \\nAudi\\n  [\\n, A1, \\n]  [\\nLR-062483\\n]     [\\n, 2016, \\n]  [\\n, Black, \\n]  [\\nMetallic\\n]           [\\nMythosschwarz\\n]  [\\nCloth, Black\\n]  [\\n, Sedans, \\n]      [\\n5\\n]      [\\n5\\n]  [\\n0588/BDF\\n]  [\\n, Automatic, \\n]  [\\n1,422 cc\\n]   [\\n3\\n]  [\\n1,220 kg\\n]  [\\nfront\\n]  [\\n, Diesel (Particulate Filter), \\n]  [[3.8 l/100 km (comb)], [4.3 l/100 km (city)], [3.5 l/100 km (country)]]   [\\n99 g CO2/km (comb)\\n]   [\\nEuro 6\\n]  [Air conditioning, Armrest, Automatic climate control, Cruise control, Electrical side mirrors, Hill Holder, Leather steering wheel, Light sensor, Multi-function steering wheel, Navigation system, Park Distance Control, Parking assist system sensors rear, Power windows, Rain sensor, Seat heating, Start-stop system]                                     [Bluetooth, Hands-free equipment, On-board computer, Radio]              [Alloy wheels, Catalytic Converter, Voice Control]                                          [ABS, Central door lock, Daytime running lights, Driver-side airbag, Electronic stability control, Fog lights, Immobilizer, Isofix, Passenger-side airbag, Power steering, Side airbag, Tire pressure monitoring system, Traction control, Xenon headlights]   \n",
       "1                                      https://www.autoscout24.com//offers/audi-a1-1-8-tfsi-sport-gasoline-red-b2547f8a-e83f-6237-e053-e250040a56df    Audi A1                                      1.8 TFSI sport    Sedans  14500  Price negotiable  80,000 km      03/2017               None NaN  141 kW                     [, Used, , Gasoline]             NaN                                    NaN                                 NaN                               NaN                               NaN                   NaN   []  \\nAudi\\n  [\\n, A1, \\n]              NaN     [\\n, 2017, \\n]    [\\n, Red, \\n]             NaN                           NaN   [\\nCloth, Grey\\n]  [\\n, Sedans, \\n]      [\\n3\\n]      [\\n4\\n]  [\\n0588/BCY\\n]  [\\n, Automatic, \\n]  [\\n1,798 cc\\n]   [\\n4\\n]  [\\n1,255 kg\\n]  [\\nfront\\n]                     [\\n, Gasoline, \\n]  [[5.6 l/100 km (comb)], [7.1 l/100 km (city)], [4.7 l/100 km (country)]]  [\\n129 g CO2/km (comb)\\n]   [\\nEuro 6\\n]                                                                                                                                      [Air conditioning, Automatic climate control, Hill Holder, Leather steering wheel, Lumbar support, Parking assist system sensors rear, Power windows, Start-stop system, Tinted windows]                       [Bluetooth, Hands-free equipment, On-board computer, Radio, Sound system]    [Alloy wheels, Sport seats, Sport suspension, Voice Control]  [ABS, Central door lock, Central door lock with remote control, Daytime running lights, Driver-side airbag, Electronic stability control, Head airbag, Immobilizer, Isofix, Passenger-side airbag, Power steering, Side airbag, Tire pressure monitoring system, Traction control, Xenon headlights]   \n",
       "2  https://www.autoscout24.com//offers/audi-a1-sportback-1-6-tdi-s-tronic-einparkhilfe-plus-music-diesel-black-6183cb6a-8570-4b86-a132-9b54214bca88    Audi A1  Sportback 1.6 TDI S tronic Einparkhilfe plus+music    Sedans  14640    VAT deductible  83,450 km      02/2016   1 previous owner NaN   85 kW  [, Used, , Diesel (Particulate Filter)]           \\n1\\n                                    NaN                                 NaN  [\\n, \\n, \\n99 g CO2/km (comb)\\n]                               NaN                   NaN   []  \\nAudi\\n  [\\n, A1, \\n]   [\\nAM-95365\\n]     [\\n, 2016, \\n]  [\\n, Black, \\n]  [\\nMetallic\\n]  [\\nmythosschwarz metallic\\n]  [\\nCloth, Black\\n]  [\\n, Sedans, \\n]      [\\n4\\n]      [\\n4\\n]             NaN  [\\n, Automatic, \\n]  [\\n1,598 cc\\n]       NaN             NaN  [\\nfront\\n]  [\\n, Diesel (Particulate Filter), \\n]  [[3.8 l/100 km (comb)], [4.4 l/100 km (city)], [3.4 l/100 km (country)]]   [\\n99 g CO2/km (comb)\\n]   [\\nEuro 6\\n]                            [Air conditioning, Cruise control, Electrical side mirrors, Hill Holder, Leather steering wheel, Multi-function steering wheel, Navigation system, Park Distance Control, Parking assist system sensors front, Parking assist system sensors rear, Power windows, Seat heating, Start-stop system]                                                                        [MP3, On-board computer]                                   [Alloy wheels, Voice Control]                                                                        [ABS, Central door lock, Daytime running lights, Driver-side airbag, Electronic stability control, Immobilizer, Isofix, Passenger-side airbag, Power steering, Side airbag, Tire pressure monitoring system, Traction control]   \n",
       "3                             https://www.autoscout24.com//offers/audi-a1-1-4-tdi-design-s-tronic-diesel-brown-35c86585-2727-d61e-e053-e250040ad640    Audi A1                             1.4 TDi Design S tronic    Sedans  14500              None  73,000 km      08/2016   1 previous owner NaN   66 kW  [, Used, , Diesel (Particulate Filter)]           \\n1\\n                                    NaN                                 NaN                               NaN  [\\n, \\n, \\n99 g CO2/km (comb)\\n]  [\\n, \\n, \\nEuro 6\\n]   []  \\nAudi\\n  [\\n, A1, \\n]              NaN     [\\n, 2016, \\n]  [\\n, Brown, \\n]  [\\nMetallic\\n]                           NaN                 NaN  [\\n, Sedans, \\n]      [\\n3\\n]      [\\n4\\n]             NaN  [\\n, Automatic, \\n]  [\\n1,422 cc\\n]   [\\n3\\n]  [\\n1,195 kg\\n]          NaN  [\\n, Diesel (Particulate Filter), \\n]  [[3.8 l/100 km (comb)], [4.3 l/100 km (city)], [3.5 l/100 km (country)]]   [\\n99 g CO2/km (comb)\\n]   [\\nEuro 6\\n]                                   [Air suspension, Armrest, Auxiliary heating, Electrical side mirrors, Heads-up display, Hill Holder, Leather steering wheel, Light sensor, Lumbar support, Multi-function steering wheel, Navigation system, Power windows, Rain sensor, Seat heating, Split rear seats, Start-stop system]  [Bluetooth, CD player, Hands-free equipment, MP3, On-board computer, Radio, Sound system, USB]                      [Alloy wheels, Sport seats, Voice Control]                    [ABS, Alarm system, Central door lock with remote control, Driver drowsiness detection, Driver-side airbag, Electronic stability control, Emergency system, Head airbag, Immobilizer, Isofix, Passenger-side airbag, Power steering, Side airbag, Tire pressure monitoring system]   \n",
       "4    https://www.autoscout24.com//offers/audi-a1-sportback-1-4-tdi-s-tronic-s-line-ext-admired-xe-diesel-black-b86b55d8-9c7c-4a58-b658-b97008a51efc    Audi A1  Sportback 1.4 TDI S-Tronic S-Line Ext. admired, Xe    Sedans  16790              None  16,200 km      05/2016   1 previous owner NaN   66 kW  [, Used, , Diesel (Particulate Filter)]           \\n1\\n                                    NaN  [\\nYes\\n, \\n109 g CO2/km (comb)\\n]              [\\n, \\n, \\nEuro 6\\n]           [\\n, \\n, \\n4 (Green)\\n]              [\\n, \\n]   []  \\nAudi\\n  [\\n, A1, \\n]      [\\nC1626\\n]     [\\n, 2016, \\n]  [\\n, Black, \\n]  [\\nMetallic\\n]  [\\nMythosschwarz Metallic\\n]  [\\nCloth, Black\\n]  [\\n, Sedans, \\n]      [\\n5\\n]      [\\n5\\n]  [\\n0588/BDF\\n]  [\\n, Automatic, \\n]  [\\n1,422 cc\\n]   [\\n3\\n]             NaN  [\\nfront\\n]  [\\n, Diesel (Particulate Filter), \\n]  [[4.1 l/100 km (comb)], [4.6 l/100 km (city)], [3.8 l/100 km (country)]]  [\\n109 g CO2/km (comb)\\n]   [\\nEuro 6\\n]                                                   [Air conditioning, Armrest, Automatic climate control, Electrical side mirrors, Hill Holder, Leather steering wheel, Light sensor, Multi-function steering wheel, Park Distance Control, Parking assist system sensors rear, Power windows, Rain sensor, Start-stop system]                [Bluetooth, CD player, Hands-free equipment, MP3, On-board computer, Radio, USB]  [Alloy wheels, Sport package, Sport suspension, Voice Control]                                                                  [ABS, Central door lock, Driver-side airbag, Electronic stability control, Fog lights, Immobilizer, Isofix, Passenger-side airbag, Power steering, Side airbag, Tire pressure monitoring system, Traction control, Xenon headlights]   \n",
       "\n",
       "                                                                                                                                                                                                                                                                                                                                                                                                                                                                                                           description   Emission Label    Gears Country version Electricity consumption Last Service Date Other Fuel Types Availability Last Timing Belt Service Date Available from  \n",
       "0  [\\n, Sicherheit:,  , Deaktivierung für Beifahrer-Airbag,  , ESC mit elektronischer Quersperre,  , Tagfahrlicht,  , Reifendruck-Kontrollanzeige,  , Kopfairbag-System mit Seiten-Airbags vorn,  , Sicherheitslenksäule, Assistenzsysteme:,  , Berganfahrassistent, Komfort:,  , Scheinwerferreinigung,  , Xenon plus inklusive Scheinwerfer-Reinigungsanlage,  , Scheinwerfer-Reinigungsanlage,  , Einparkhilfe hinten,  , Licht-/Regensensor,  , Funkfernbedienung,  , Elektrische Luftzusatzheizung, Interieur:...              NaN      NaN             NaN                     NaN               NaN              NaN          NaN                           NaN            NaN  \n",
       "1                                                                                                                                                                                                                                                                                                                                                                                                         [\\nLangstreckenfahrzeug daher die hohe Kilometerleistung. , Bremsen neu bei 62000 km. , Gut gepflegter A1\\n]  [\\n4 (Green)\\n]  [\\n7\\n]             NaN                     NaN               NaN              NaN          NaN                           NaN            NaN  \n",
       "2  [\\n, Fahrzeug-Nummer: AM-95365,  , Ehem. UPE 24.640 EUR,  , Komfort,  , Klimaanlage,  , Elektrische Fensterheber,  , Sitzheizung,  , Tempomat,  , Zentralverriegelung,  , Leder-Lenkrad,  , Elektrische Spiegel,  , Wärmedämmendes Glas,  , Anfahrassistent,  , Sicherheit,  , Window/Kopfairbags,  , ESP (el. Stabilitäts Programm),  , Elektronische Wegfahrsperre,  , Reifendruckkontrolle,  , Tagfahrlicht,  , Exterieur,  , Alufelgen 16 Zoll,  , Einparkhilfe vo + hi,  , Interieur,  , Stoff Zeitgeist,  ...  [\\n4 (Green)\\n]      NaN             NaN                     NaN               NaN              NaN          NaN                           NaN            NaN  \n",
       "3                                                                                                                                                                                                                                                                             [\\nAudi A1: , - 1e eigenaar , - Perfecte staat: schade/ongevalvrij , - Onderhoudsboekje Audi garage , - Full option!, - S-line opties, - Automaat, lederen bekleding, navi-pro, Xenon lampen, zetelverwarming, automatische airco,...\\n]              NaN  [\\n6\\n]             NaN                     NaN               NaN              NaN          NaN                           NaN            NaN  \n",
       "4  [\\n, Technik & Sicherheit:, Xenon plus, Klimaautomatik, Einparkhilfe hinten, Scheinwerferreinigungsanlage, Nebelscheinwerfer, Zentralverriegelung mit Fernbedienung, Außenspiegel elek. einstellbar, Fensterheber elek, Start/Stop Anlage, 6 Airbag inkl. Kopfairbag, Euro 6, Multimedia:, Radio CD Concert, audi music interface, Handyvorbereitung (Bluetooth), Sprachsteuerung, USB Anschluss, Assistenzsysteme:, Lichtsensor, Regensensor, Berganfahrassistent, Reifendruckkontrolle, ESP inkl. ABS, Interie...              NaN      NaN   [\\nGermany\\n]                     NaN               NaN              NaN          NaN                           NaN            NaN  "
      ]
     },
     "execution_count": 3,
     "metadata": {},
     "output_type": "execute_result"
    }
   ],
   "source": [
    "oto.head()"
   ]
  },
  {
   "cell_type": "markdown",
   "metadata": {},
   "source": [
    "##  Now let's try to examine our dataframe (oto)"
   ]
  },
  {
   "cell_type": "code",
   "execution_count": 5,
   "metadata": {},
   "outputs": [
    {
     "name": "stdout",
     "output_type": "stream",
     "text": [
      "<class 'pandas.core.frame.DataFrame'>\n",
      "RangeIndex: 15919 entries, 0 to 15918\n",
      "Data columns (total 54 columns):\n",
      "url                              object\n",
      "make_model                       object\n",
      "short_description                object\n",
      "body_type                        object\n",
      "price                            int64\n",
      "vat                              object\n",
      "km                               object\n",
      "registration                     object\n",
      "prev_owner                       object\n",
      "kW                               float64\n",
      "hp                               object\n",
      "Type                             object\n",
      "Previous Owners                  object\n",
      "Next Inspection                  object\n",
      "Inspection new                   object\n",
      "Warranty                         object\n",
      "Full Service                     object\n",
      "Non-smoking Vehicle              object\n",
      "null                             object\n",
      "Make                             object\n",
      "Model                            object\n",
      "Offer Number                     object\n",
      "First Registration               object\n",
      "Body Color                       object\n",
      "Paint Type                       object\n",
      "Body Color Original              object\n",
      "Upholstery                       object\n",
      "Body                             object\n",
      "Nr. of Doors                     object\n",
      "Nr. of Seats                     object\n",
      "Model Code                       object\n",
      "Gearing Type                     object\n",
      "Displacement                     object\n",
      "Cylinders                        object\n",
      "Weight                           object\n",
      "Drive chain                      object\n",
      "Fuel                             object\n",
      "Consumption                      object\n",
      "CO2 Emission                     object\n",
      "Emission Class                   object\n",
      "\n",
      "Comfort & Convenience\n",
      "          object\n",
      "\n",
      "Entertainment & Media\n",
      "          object\n",
      "\n",
      "Extras\n",
      "                         object\n",
      "\n",
      "Safety & Security\n",
      "              object\n",
      "description                      object\n",
      "Emission Label                   object\n",
      "Gears                            object\n",
      "Country version                  object\n",
      "Electricity consumption          object\n",
      "Last Service Date                object\n",
      "Other Fuel Types                 object\n",
      "Availability                     object\n",
      "Last Timing Belt Service Date    object\n",
      "Available from                   object\n",
      "dtypes: float64(1), int64(1), object(52)\n",
      "memory usage: 6.6+ MB\n"
     ]
    }
   ],
   "source": [
    "oto.info()"
   ]
  },
  {
   "cell_type": "code",
   "execution_count": 7,
   "metadata": {},
   "outputs": [],
   "source": [
    "col_list =  list(oto.columns)"
   ]
  },
  {
   "cell_type": "markdown",
   "metadata": {},
   "source": [
    "## Let's begin to implement EDA Process to all *columns*"
   ]
  },
  {
   "cell_type": "markdown",
   "metadata": {},
   "source": [
    "> ### We'll begin with the variables which has high percentage of missing values(NaNs). \n",
    "> ### We can remove some of them. At the begining we can focus on the columns that have %40 precentage and higher of missing values."
   ]
  },
  {
   "cell_type": "code",
   "execution_count": 10,
   "metadata": {},
   "outputs": [
    {
     "data": {
      "text/plain": [
       "15919"
      ]
     },
     "execution_count": 10,
     "metadata": {},
     "output_type": "execute_result"
    }
   ],
   "source": [
    "oto.shape[0]"
   ]
  },
  {
   "cell_type": "code",
   "execution_count": 11,
   "metadata": {},
   "outputs": [
    {
     "data": {
      "text/plain": [
       "prev_owner                        42.892141\n",
       "kW                               100.000000\n",
       "Previous Owners                   41.711163\n",
       "Next Inspection                   77.793831\n",
       "Inspection new                    75.299956\n",
       "Full Service                      48.395000\n",
       "Non-smoking Vehicle               54.915510\n",
       "Model Code                        68.729192\n",
       "Weight                            43.809285\n",
       "Drive chain                       43.080596\n",
       "Emission Label                    74.967021\n",
       "Country version                   52.346253\n",
       "Electricity consumption           99.139393\n",
       "Last Service Date                 96.444500\n",
       "Other Fuel Types                  94.472015\n",
       "Availability                      96.011056\n",
       "Last Timing Belt Service Date     99.899491\n",
       "Available from                    98.291350\n",
       "dtype: float64"
      ]
     },
     "execution_count": 11,
     "metadata": {},
     "output_type": "execute_result"
    }
   ],
   "source": [
    "def show_nans(oto, limit):\n",
    "    missing = oto.isnull().sum()*100/oto.shape[0]\n",
    "    return missing.loc[lambda x : x > limit]\n",
    "show_nans(oto, 40)"
   ]
  },
  {
   "cell_type": "markdown",
   "metadata": {},
   "source": [
    "- We can drop the columns which have 90 percentage or high of missing values.\n",
    "- ``'Availability'``, ``'Available from'``, ``'Electricity consumption'``, ``'Last Service Date'``, ``'Last Timing Belt Service Date'``, ``'Other Fuel Types'``, ``'kW'``"
   ]
  },
  {
   "cell_type": "code",
   "execution_count": 13,
   "metadata": {},
   "outputs": [],
   "source": [
    "drop_list = ['Availability','Available from','Electricity consumption','Last Service Date','Last Timing Belt Service Date',\n",
    "         'Other Fuel Types','kW']"
   ]
  },
  {
   "cell_type": "code",
   "execution_count": 14,
   "metadata": {},
   "outputs": [],
   "source": [
    "oto.drop(drop_list,axis=1,inplace=True)"
   ]
  },
  {
   "cell_type": "markdown",
   "metadata": {},
   "source": [
    "``'prev_owner'`` is very similar to ``'Previous Owners'``.  ``'Weight'`` and ``'Non-smoking Vehicle'`` are assumed that they don't have meaningful  effect on the result. So we can drop them all."
   ]
  },
  {
   "cell_type": "markdown",
   "metadata": {},
   "source": [
    "### ``\"prev_owner\"`` and ``\"Previous Owners\"``"
   ]
  },
  {
   "cell_type": "code",
   "execution_count": 16,
   "metadata": {},
   "outputs": [
    {
     "data": {
      "text/html": [
       "<div>\n",
       "<style scoped>\n",
       "    .dataframe tbody tr th:only-of-type {\n",
       "        vertical-align: middle;\n",
       "    }\n",
       "\n",
       "    .dataframe tbody tr th {\n",
       "        vertical-align: top;\n",
       "    }\n",
       "\n",
       "    .dataframe thead th {\n",
       "        text-align: right;\n",
       "    }\n",
       "</style>\n",
       "<table border=\"1\" class=\"dataframe\">\n",
       "  <thead>\n",
       "    <tr style=\"text-align: right;\">\n",
       "      <th></th>\n",
       "      <th>prev_owner</th>\n",
       "      <th>Previous Owners</th>\n",
       "    </tr>\n",
       "  </thead>\n",
       "  <tbody>\n",
       "    <tr>\n",
       "      <td>0</td>\n",
       "      <td>2 previous owners</td>\n",
       "      <td>\\n2\\n</td>\n",
       "    </tr>\n",
       "    <tr>\n",
       "      <td>1</td>\n",
       "      <td>None</td>\n",
       "      <td>NaN</td>\n",
       "    </tr>\n",
       "    <tr>\n",
       "      <td>2</td>\n",
       "      <td>1 previous owner</td>\n",
       "      <td>\\n1\\n</td>\n",
       "    </tr>\n",
       "    <tr>\n",
       "      <td>3</td>\n",
       "      <td>1 previous owner</td>\n",
       "      <td>\\n1\\n</td>\n",
       "    </tr>\n",
       "    <tr>\n",
       "      <td>4</td>\n",
       "      <td>1 previous owner</td>\n",
       "      <td>\\n1\\n</td>\n",
       "    </tr>\n",
       "    <tr>\n",
       "      <td>...</td>\n",
       "      <td>...</td>\n",
       "      <td>...</td>\n",
       "    </tr>\n",
       "    <tr>\n",
       "      <td>15914</td>\n",
       "      <td>None</td>\n",
       "      <td>NaN</td>\n",
       "    </tr>\n",
       "    <tr>\n",
       "      <td>15915</td>\n",
       "      <td>1 previous owner</td>\n",
       "      <td>[\\n1\\n, \\n, 7.4 l/100 km (comb), \\n, 9.2 l/100 km (city), \\n, 6.3 l/100 km (country), \\n]</td>\n",
       "    </tr>\n",
       "    <tr>\n",
       "      <td>15916</td>\n",
       "      <td>1 previous owner</td>\n",
       "      <td>[\\n1\\n, \\n139 g CO2/km (comb)\\n]</td>\n",
       "    </tr>\n",
       "    <tr>\n",
       "      <td>15917</td>\n",
       "      <td>None</td>\n",
       "      <td>NaN</td>\n",
       "    </tr>\n",
       "    <tr>\n",
       "      <td>15918</td>\n",
       "      <td>1 previous owner</td>\n",
       "      <td>\\n1\\n</td>\n",
       "    </tr>\n",
       "  </tbody>\n",
       "</table>\n",
       "<p>15919 rows × 2 columns</p>\n",
       "</div>"
      ],
      "text/plain": [
       "              prev_owner                                                                            Previous Owners\n",
       "0      2 previous owners                                                                                      \\n2\\n\n",
       "1                   None                                                                                        NaN\n",
       "2       1 previous owner                                                                                      \\n1\\n\n",
       "3       1 previous owner                                                                                      \\n1\\n\n",
       "4       1 previous owner                                                                                      \\n1\\n\n",
       "...                  ...                                                                                        ...\n",
       "15914               None                                                                                        NaN\n",
       "15915   1 previous owner  [\\n1\\n, \\n, 7.4 l/100 km (comb), \\n, 9.2 l/100 km (city), \\n, 6.3 l/100 km (country), \\n]\n",
       "15916   1 previous owner                                                           [\\n1\\n, \\n139 g CO2/km (comb)\\n]\n",
       "15917               None                                                                                        NaN\n",
       "15918   1 previous owner                                                                                      \\n1\\n\n",
       "\n",
       "[15919 rows x 2 columns]"
      ]
     },
     "execution_count": 16,
     "metadata": {},
     "output_type": "execute_result"
    }
   ],
   "source": [
    "oto[['prev_owner','Previous Owners']]"
   ]
  },
  {
   "cell_type": "markdown",
   "metadata": {},
   "source": [
    "#### These two columns are very similar to each other. Let's choose better of them."
   ]
  },
  {
   "cell_type": "code",
   "execution_count": 17,
   "metadata": {},
   "outputs": [
    {
     "data": {
      "text/plain": [
       "0                                                                                            \\n2\\n\n",
       "1                                                                                              NaN\n",
       "2                                                                                            \\n1\\n\n",
       "3                                                                                            \\n1\\n\n",
       "4                                                                                            \\n1\\n\n",
       "                                                   ...                                            \n",
       "15914                                                                                          NaN\n",
       "15915    [\\n1\\n, \\n, 7.4 l/100 km (comb), \\n, 9.2 l/100 km (city), \\n, 6.3 l/100 km (country), \\n]\n",
       "15916                                                             [\\n1\\n, \\n139 g CO2/km (comb)\\n]\n",
       "15917                                                                                          NaN\n",
       "15918                                                                                        \\n1\\n\n",
       "Name: Previous Owners, Length: 15919, dtype: object"
      ]
     },
     "execution_count": 17,
     "metadata": {},
     "output_type": "execute_result"
    }
   ],
   "source": [
    "oto[\"Previous Owners\"]"
   ]
  },
  {
   "cell_type": "code",
   "execution_count": 18,
   "metadata": {},
   "outputs": [
    {
     "data": {
      "text/plain": [
       "0        2 previous owners\n",
       "1                     None\n",
       "2         1 previous owner\n",
       "3         1 previous owner\n",
       "4         1 previous owner\n",
       "               ...        \n",
       "15914                 None\n",
       "15915     1 previous owner\n",
       "15916     1 previous owner\n",
       "15917                 None\n",
       "15918     1 previous owner\n",
       "Name: prev_owner, Length: 15919, dtype: object"
      ]
     },
     "execution_count": 18,
     "metadata": {},
     "output_type": "execute_result"
    }
   ],
   "source": [
    "oto[\"prev_owner\"]"
   ]
  },
  {
   "cell_type": "code",
   "execution_count": 20,
   "metadata": {},
   "outputs": [
    {
     "data": {
      "text/plain": [
       "\\n1\\n                                                                                        8101\n",
       "NaN                                                                                          6640\n",
       "\\n2\\n                                                                                         766\n",
       "\\n0\\n                                                                                         163\n",
       "\\n3\\n                                                                                          17\n",
       "                                                                                             ... \n",
       "[\\n1\\n, \\n, 5.9 l/100 km (comb), \\n, 7.6 l/100 km (city), \\n, 5.1 l/100 km (country), \\n]       1\n",
       "[\\n1\\n, \\n, 5.9 l/100 km (comb), \\n, 7.4 l/100 km (city), \\n, 5 l/100 km (country), \\n]         1\n",
       "[\\n1\\n, \\n, 6.5 l/100 km (comb), \\n, 8.5 l/100 km (city), \\n, 5.4 l/100 km (country), \\n]       1\n",
       "[\\n1\\n, \\n134 g CO2/km (comb)\\n]                                                                1\n",
       "[\\n1\\n, \\n102 g CO2/km (comb)\\n]                                                                1\n",
       "Name: Previous Owners, Length: 103, dtype: int64"
      ]
     },
     "execution_count": 20,
     "metadata": {},
     "output_type": "execute_result"
    }
   ],
   "source": [
    "oto['Previous Owners'].value_counts(dropna =False)"
   ]
  },
  {
   "cell_type": "code",
   "execution_count": 21,
   "metadata": {},
   "outputs": [
    {
     "data": {
      "text/plain": [
       "1 previous owner     8294\n",
       "NaN                  6828\n",
       "2 previous owners     778\n",
       "3 previous owners      17\n",
       "4 previous owners       2\n",
       "Name: prev_owner, dtype: int64"
      ]
     },
     "execution_count": 21,
     "metadata": {},
     "output_type": "execute_result"
    }
   ],
   "source": [
    "oto['prev_owner'].value_counts(dropna =False)"
   ]
  },
  {
   "cell_type": "code",
   "execution_count": 22,
   "metadata": {},
   "outputs": [
    {
     "data": {
      "text/plain": [
       "0          2\n",
       "1        NaN\n",
       "2          1\n",
       "3          1\n",
       "4          1\n",
       "        ... \n",
       "15914    NaN\n",
       "15915    NaN\n",
       "15916    NaN\n",
       "15917    NaN\n",
       "15918      1\n",
       "Name: Previous Owners, Length: 15919, dtype: object"
      ]
     },
     "execution_count": 22,
     "metadata": {},
     "output_type": "execute_result"
    }
   ],
   "source": [
    "oto[\"Previous Owners\"].str.strip(\"\\n\")"
   ]
  },
  {
   "cell_type": "code",
   "execution_count": 23,
   "metadata": {},
   "outputs": [
    {
     "data": {
      "text/plain": [
       "1      8101\n",
       "NaN    6870\n",
       "2       766\n",
       "0       163\n",
       "3        17\n",
       "4         2\n",
       "Name: Previous Owners, dtype: int64"
      ]
     },
     "execution_count": 23,
     "metadata": {},
     "output_type": "execute_result"
    }
   ],
   "source": [
    "oto[\"Previous Owners\"].str.strip(\"\\n\").value_counts(dropna = False)"
   ]
  },
  {
   "cell_type": "code",
   "execution_count": 24,
   "metadata": {},
   "outputs": [
    {
     "data": {
      "text/plain": [
       "0           \\n\n",
       "1          NaN\n",
       "2           \\n\n",
       "3           \\n\n",
       "4           \\n\n",
       "         ...  \n",
       "15914      NaN\n",
       "15915    \\n1\\n\n",
       "15916    \\n1\\n\n",
       "15917      NaN\n",
       "15918       \\n\n",
       "Name: Previous Owners, Length: 15919, dtype: object"
      ]
     },
     "execution_count": 24,
     "metadata": {},
     "output_type": "execute_result"
    }
   ],
   "source": [
    "oto[\"Previous Owners\"].str[0]"
   ]
  },
  {
   "cell_type": "code",
   "execution_count": 25,
   "metadata": {},
   "outputs": [
    {
     "data": {
      "text/plain": [
       "NaN    15689\n",
       "1        193\n",
       "0         25\n",
       "2         12\n",
       "Name: Previous Owners, dtype: int64"
      ]
     },
     "execution_count": 25,
     "metadata": {},
     "output_type": "execute_result"
    }
   ],
   "source": [
    "oto['Previous Owners'].str[0].str[1].value_counts(dropna = False)"
   ]
  },
  {
   "cell_type": "code",
   "execution_count": 27,
   "metadata": {},
   "outputs": [
    {
     "data": {
      "text/plain": [
       "0        NaN\n",
       "1        NaN\n",
       "2        NaN\n",
       "3        NaN\n",
       "4        NaN\n",
       "        ... \n",
       "15914    NaN\n",
       "15915      1\n",
       "15916      1\n",
       "15917    NaN\n",
       "15918    NaN\n",
       "Name: Previous_Owner1, Length: 15919, dtype: object"
      ]
     },
     "execution_count": 27,
     "metadata": {},
     "output_type": "execute_result"
    }
   ],
   "source": [
    "oto[\"Previous_Owner1\"] = oto['Previous Owners'].str[0].str[1]\n",
    "oto[\"Previous_Owner1\"]"
   ]
  },
  {
   "cell_type": "code",
   "execution_count": 28,
   "metadata": {},
   "outputs": [
    {
     "data": {
      "text/plain": [
       "0          2\n",
       "1        NaN\n",
       "2          1\n",
       "3          1\n",
       "4          1\n",
       "        ... \n",
       "15914    NaN\n",
       "15915    NaN\n",
       "15916    NaN\n",
       "15917    NaN\n",
       "15918      1\n",
       "Name: Previous_Owner, Length: 15919, dtype: object"
      ]
     },
     "execution_count": 28,
     "metadata": {},
     "output_type": "execute_result"
    }
   ],
   "source": [
    "oto['Previous_Owner'] = oto['Previous Owners'].str.strip('\\n')\n",
    "oto['Previous_Owner']"
   ]
  },
  {
   "cell_type": "code",
   "execution_count": 29,
   "metadata": {},
   "outputs": [
    {
     "data": {
      "text/plain": [
       "1      8294\n",
       "NaN    6640\n",
       "2       778\n",
       "0       188\n",
       "3        17\n",
       "4         2\n",
       "Name: Previous_Owner, dtype: int64"
      ]
     },
     "execution_count": 29,
     "metadata": {},
     "output_type": "execute_result"
    }
   ],
   "source": [
    "oto.Previous_Owner.fillna(oto.Previous_Owner1, inplace=True)\n",
    "oto.Previous_Owner.value_counts(dropna=False) "
   ]
  },
  {
   "cell_type": "markdown",
   "metadata": {},
   "source": [
    "### ``\"Previous_Owner\"`` our new column. Now, we have to fillna this column in the most convenient way"
   ]
  },
  {
   "cell_type": "markdown",
   "metadata": {},
   "source": [
    "### We can fill the missing values with proportion of other existing values using `bfill` method."
   ]
  },
  {
   "cell_type": "code",
   "execution_count": 30,
   "metadata": {},
   "outputs": [],
   "source": [
    "oto[\"Previous_Owner\"].fillna(method='bfill', inplace=True) "
   ]
  },
  {
   "cell_type": "code",
   "execution_count": 31,
   "metadata": {},
   "outputs": [
    {
     "data": {
      "text/plain": [
       "1    14169\n",
       "2     1179\n",
       "0      531\n",
       "3       38\n",
       "4        2\n",
       "Name: Previous_Owner, dtype: int64"
      ]
     },
     "execution_count": 31,
     "metadata": {},
     "output_type": "execute_result"
    }
   ],
   "source": [
    "oto[\"Previous_Owner\"].value_counts(dropna = False)"
   ]
  },
  {
   "cell_type": "code",
   "execution_count": 32,
   "metadata": {},
   "outputs": [],
   "source": [
    "oto[\"prev_owner\"] = oto[\"prev_owner\"].str.replace(\" previous owner\", \"\").str.replace(\"s\", \"\")"
   ]
  },
  {
   "cell_type": "code",
   "execution_count": 33,
   "metadata": {},
   "outputs": [
    {
     "data": {
      "text/plain": [
       "1      8294\n",
       "NaN    6828\n",
       "2       778\n",
       "3        17\n",
       "4         2\n",
       "Name: prev_owner, dtype: int64"
      ]
     },
     "execution_count": 33,
     "metadata": {},
     "output_type": "execute_result"
    }
   ],
   "source": [
    "oto.prev_owner.value_counts(dropna = False)"
   ]
  },
  {
   "cell_type": "code",
   "execution_count": 34,
   "metadata": {},
   "outputs": [],
   "source": [
    "oto[\"prev_owner\"].fillna(method='bfill', inplace=True)"
   ]
  },
  {
   "cell_type": "code",
   "execution_count": 35,
   "metadata": {},
   "outputs": [
    {
     "data": {
      "text/plain": [
       "1    14692\n",
       "2     1187\n",
       "3       38\n",
       "4        2\n",
       "Name: prev_owner, dtype: int64"
      ]
     },
     "execution_count": 35,
     "metadata": {},
     "output_type": "execute_result"
    }
   ],
   "source": [
    "oto.prev_owner.value_counts(dropna = False)"
   ]
  },
  {
   "cell_type": "code",
   "execution_count": 45,
   "metadata": {},
   "outputs": [
    {
     "data": {
      "text/plain": [
       "1    14169\n",
       "2     1179\n",
       "0      531\n",
       "3       38\n",
       "4        2\n",
       "Name: Previous_Owner, dtype: int64"
      ]
     },
     "execution_count": 45,
     "metadata": {},
     "output_type": "execute_result"
    }
   ],
   "source": [
    "oto[\"Previous_Owner\"].value_counts()"
   ]
  },
  {
   "cell_type": "markdown",
   "metadata": {},
   "source": [
    "**It's better to drop ``\"prev_owner\"`` column in order to benefit more from ``\"Previous_Owner\"``. By the way, It is time to drop the other useless columns : `\"Weight\"`, `'Non-smoking Vehicle'`.**"
   ]
  },
  {
   "cell_type": "markdown",
   "metadata": {},
   "source": [
    "oto.columns"
   ]
  },
  {
   "cell_type": "code",
   "execution_count": 43,
   "metadata": {},
   "outputs": [],
   "source": [
    "drop_list2 = [\"prev_owner\",\"Weight\",\"Non-smoking Vehicle\"]"
   ]
  },
  {
   "cell_type": "code",
   "execution_count": 44,
   "metadata": {},
   "outputs": [],
   "source": [
    "oto.drop(drop_list2,axis = 1,inplace =True)"
   ]
  },
  {
   "cell_type": "markdown",
   "metadata": {},
   "source": [
    "### ``'body_type'`` is also very similar to ``'Body'``."
   ]
  },
  {
   "cell_type": "markdown",
   "metadata": {},
   "source": [
    "- **Defining a Function**"
   ]
  },
  {
   "cell_type": "code",
   "execution_count": 46,
   "metadata": {},
   "outputs": [],
   "source": [
    "def fill_most(oto, group_col, col_name):\n",
    "    for group in list(oto[group_col].unique()) :\n",
    "        grp_inx = list(oto[oto[group_col] == group][col_name].index)\n",
    "        oto[col_name].iloc[grp_inx] = oto[col_name].iloc[grp_inx].fillna(oto[oto[group_col] == group][col_name].mode()[0])"
   ]
  },
  {
   "cell_type": "code",
   "execution_count": 47,
   "metadata": {},
   "outputs": [
    {
     "data": {
      "text/plain": [
       "2615      Convertible\n",
       "2616           Sedans\n",
       "2617           Sedans\n",
       "2618           Sedans\n",
       "2619           Sedans\n",
       "            ...      \n",
       "5707           Sedans\n",
       "5708           Sedans\n",
       "5709    Station wagon\n",
       "5710           Sedans\n",
       "5711           Sedans\n",
       "Name: body_type, Length: 3097, dtype: object"
      ]
     },
     "execution_count": 47,
     "metadata": {},
     "output_type": "execute_result"
    }
   ],
   "source": [
    "oto[oto[\"make_model\"] == \"Audi A3\"][\"body_type\"]"
   ]
  },
  {
   "cell_type": "code",
   "execution_count": 48,
   "metadata": {},
   "outputs": [],
   "source": [
    "grp_inx = list(oto[oto[\"make_model\"] == \"Audi A3\"][\"body_type\"].index)"
   ]
  },
  {
   "cell_type": "code",
   "execution_count": 49,
   "metadata": {},
   "outputs": [
    {
     "data": {
      "text/plain": [
       "'Sedans'"
      ]
     },
     "execution_count": 49,
     "metadata": {},
     "output_type": "execute_result"
    }
   ],
   "source": [
    "oto[\"body_type\"].iloc[2680]"
   ]
  },
  {
   "cell_type": "code",
   "execution_count": 50,
   "metadata": {},
   "outputs": [
    {
     "data": {
      "text/plain": [
       "'Sedans'"
      ]
     },
     "execution_count": 50,
     "metadata": {},
     "output_type": "execute_result"
    }
   ],
   "source": [
    "oto[oto[\"make_model\"] == \"Audi A3\"][\"body_type\"].mode()[0]"
   ]
  },
  {
   "cell_type": "code",
   "execution_count": 51,
   "metadata": {},
   "outputs": [
    {
     "data": {
      "text/plain": [
       "'Sedans'"
      ]
     },
     "execution_count": 51,
     "metadata": {},
     "output_type": "execute_result"
    }
   ],
   "source": [
    "oto[oto[\"make_model\"] == \"Audi A1\"][\"body_type\"].mode()[0]"
   ]
  },
  {
   "cell_type": "code",
   "execution_count": 52,
   "metadata": {},
   "outputs": [
    {
     "data": {
      "text/plain": [
       "'Van'"
      ]
     },
     "execution_count": 52,
     "metadata": {},
     "output_type": "execute_result"
    }
   ],
   "source": [
    "oto[oto[\"make_model\"] == \"Renault Espace\"][\"body_type\"].mode()[0]"
   ]
  },
  {
   "cell_type": "code",
   "execution_count": 53,
   "metadata": {},
   "outputs": [
    {
     "data": {
      "text/plain": [
       "Sedans           7903\n",
       "Station wagon    3553\n",
       "Compact          3153\n",
       "Van               783\n",
       "Other             290\n",
       "Transporter        88\n",
       "NaN                60\n",
       "Off-Road           56\n",
       "Coupe              25\n",
       "Convertible         8\n",
       "Name: body_type, dtype: int64"
      ]
     },
     "execution_count": 53,
     "metadata": {},
     "output_type": "execute_result"
    }
   ],
   "source": [
    "oto[\"body_type\"].value_counts(dropna = False)"
   ]
  },
  {
   "cell_type": "code",
   "execution_count": 54,
   "metadata": {},
   "outputs": [
    {
     "data": {
      "text/plain": [
       "make_model      body_type    \n",
       "Audi A1         Sedans           1538\n",
       "                Compact          1039\n",
       "                Station wagon      21\n",
       "                Other              13\n",
       "                Coupe               2\n",
       "                Van                 1\n",
       "Audi A2         Off-Road            1\n",
       "Audi A3         Sedans           2598\n",
       "                Station wagon     282\n",
       "                Compact           182\n",
       "                Other              16\n",
       "                Convertible         8\n",
       "                NaN                 7\n",
       "                Coupe               4\n",
       "Opel Astra      Station wagon    1211\n",
       "                Sedans           1053\n",
       "                Compact           185\n",
       "                Other              67\n",
       "                NaN                 7\n",
       "                Coupe               2\n",
       "                Off-Road            1\n",
       "Opel Corsa      Compact          1230\n",
       "                Sedans            875\n",
       "                Other              87\n",
       "                Coupe              13\n",
       "                Transporter         7\n",
       "                Off-Road            3\n",
       "                NaN                 2\n",
       "                Van                 2\n",
       "Opel Insignia   Station wagon    1611\n",
       "                Sedans            900\n",
       "                Other              48\n",
       "                Compact            27\n",
       "                Off-Road            7\n",
       "                NaN                 3\n",
       "                Coupe               1\n",
       "                Van                 1\n",
       "Renault Clio    Sedans            918\n",
       "                Compact           484\n",
       "                Station wagon     337\n",
       "                Other              51\n",
       "                Transporter        29\n",
       "                NaN                15\n",
       "                Off-Road            2\n",
       "                Van                 2\n",
       "                Coupe               1\n",
       "Renault Duster  Off-Road           34\n",
       "Renault Espace  Van               777\n",
       "                Station wagon      91\n",
       "                Transporter        52\n",
       "                NaN                26\n",
       "                Sedans             21\n",
       "                Off-Road            8\n",
       "                Other               8\n",
       "                Compact             6\n",
       "                Coupe               2\n",
       "Name: body_type, dtype: int64"
      ]
     },
     "execution_count": 54,
     "metadata": {},
     "output_type": "execute_result"
    }
   ],
   "source": [
    "oto.groupby(\"make_model\")[\"body_type\"].value_counts(dropna = False)"
   ]
  },
  {
   "cell_type": "code",
   "execution_count": 55,
   "metadata": {},
   "outputs": [],
   "source": [
    "fill_most(oto, \"make_model\", \"body_type\")"
   ]
  },
  {
   "cell_type": "code",
   "execution_count": 56,
   "metadata": {},
   "outputs": [
    {
     "data": {
      "text/plain": [
       "Sedans           7925\n",
       "Station wagon    3563\n",
       "Compact          3155\n",
       "Van               809\n",
       "Other             290\n",
       "Transporter        88\n",
       "Off-Road           56\n",
       "Coupe              25\n",
       "Convertible         8\n",
       "Name: body_type, dtype: int64"
      ]
     },
     "execution_count": 56,
     "metadata": {},
     "output_type": "execute_result"
    }
   ],
   "source": [
    "oto.body_type.value_counts(dropna = False)"
   ]
  },
  {
   "cell_type": "markdown",
   "metadata": {},
   "source": [
    "### ``\"Body\"``"
   ]
  },
  {
   "cell_type": "code",
   "execution_count": 57,
   "metadata": {},
   "outputs": [
    {
     "data": {
      "text/plain": [
       "[\\n, Sedans, \\n]           7903\n",
       "[\\n, Station wagon, \\n]    3553\n",
       "[\\n, Compact, \\n]          3153\n",
       "[\\n, Van, \\n]               783\n",
       "[\\n, Other, \\n]             290\n",
       "[\\n, Transporter, \\n]        88\n",
       "NaN                          60\n",
       "[\\n, Off-Road, \\n]           56\n",
       "[\\n, Coupe, \\n]              25\n",
       "[\\n, Convertible, \\n]         8\n",
       "Name: Body, dtype: int64"
      ]
     },
     "execution_count": 57,
     "metadata": {},
     "output_type": "execute_result"
    }
   ],
   "source": [
    "oto[\"Body\"].value_counts(dropna = False)"
   ]
  },
  {
   "cell_type": "markdown",
   "metadata": {},
   "source": [
    "### It seems that ``\"Body\"`` deserves to be dropped"
   ]
  },
  {
   "cell_type": "code",
   "execution_count": 59,
   "metadata": {},
   "outputs": [],
   "source": [
    "oto.drop(\"Body\",axis=1,inplace = True)"
   ]
  },
  {
   "cell_type": "markdown",
   "metadata": {},
   "source": [
    "### ``'Inspection new'``"
   ]
  },
  {
   "cell_type": "code",
   "execution_count": 60,
   "metadata": {},
   "outputs": [
    {
     "data": {
      "text/plain": [
       "0.7529995602738866"
      ]
     },
     "execution_count": 60,
     "metadata": {},
     "output_type": "execute_result"
    }
   ],
   "source": [
    "oto[\"Inspection new\"].isnull().sum()/len(oto[\"Inspection new\"])"
   ]
  },
  {
   "cell_type": "markdown",
   "metadata": {},
   "source": [
    "#### It has high percentage of missing values, but it is important feature for the result (predicting price). We should keep it for now and we can assume missing values as 'no',  so that we can fillna missing values with string ``'no'``."
   ]
  },
  {
   "cell_type": "code",
   "execution_count": 61,
   "metadata": {},
   "outputs": [
    {
     "data": {
      "text/plain": [
       "NaN                                                                                            11987\n",
       "[\\nYes\\n, \\nEuro 6\\n]                                                                            523\n",
       "\\nYes\\n                                                                                          362\n",
       "[\\nYes\\n, \\n102 g CO2/km (comb)\\n]                                                               174\n",
       "[\\nYes\\n, \\n4 (Green)\\n]                                                                         166\n",
       "                                                                                               ...  \n",
       "[\\nYes\\n, \\n, 6 l/100 km (comb), \\n, 7.5 l/100 km (city), \\n, 5.2 l/100 km (country), \\n]          1\n",
       "[\\nYes\\n, \\n, 7 l/100 km (comb), \\n, 9.5 l/100 km (city), \\n, 5.5 l/100 km (country), \\n]          1\n",
       "[\\nYes\\n, \\n, 5.4 l/100 km (comb), \\n, \\n, \\n]                                                     1\n",
       "[\\nYes\\n, \\n, 5.9 l/100 km (comb), \\n, 7.5 l/100 km (city), \\n, 4.9 l/100 km (country), \\n]        1\n",
       "[\\nYes\\n, \\n, 4.4 l/100 km (comb), \\n, 5.5 l/100 km (city), \\n, 3.8 l/100 km (country), \\n]        1\n",
       "Name: Inspection new, Length: 203, dtype: int64"
      ]
     },
     "execution_count": 61,
     "metadata": {},
     "output_type": "execute_result"
    }
   ],
   "source": [
    "oto[\"Inspection new\"].value_counts(dropna = False)"
   ]
  },
  {
   "cell_type": "markdown",
   "metadata": {},
   "source": [
    "#### We chose the ``'\\n'`` string in ``'.contains()'``. So we cover both variables in the lists and out of the lists\n",
    "#### ``'*'`` 1 → gives us 1 or 0 according to True/False"
   ]
  },
  {
   "cell_type": "code",
   "execution_count": 62,
   "metadata": {},
   "outputs": [
    {
     "data": {
      "text/plain": [
       "0         True\n",
       "1        False\n",
       "2        False\n",
       "3        False\n",
       "4         True\n",
       "         ...  \n",
       "15914    False\n",
       "15915    False\n",
       "15916     True\n",
       "15917    False\n",
       "15918     True\n",
       "Name: Inspection new, Length: 15919, dtype: bool"
      ]
     },
     "execution_count": 62,
     "metadata": {},
     "output_type": "execute_result"
    }
   ],
   "source": [
    "oto['Inspection new'].str[0].str.contains(\"\\n\", na = False)"
   ]
  },
  {
   "cell_type": "code",
   "execution_count": 63,
   "metadata": {},
   "outputs": [],
   "source": [
    "oto[\"Inspection_New_Bool\"] = oto['Inspection new'].str[0].str.contains(\"\\n\", na = False)*1"
   ]
  },
  {
   "cell_type": "code",
   "execution_count": 64,
   "metadata": {},
   "outputs": [
    {
     "data": {
      "text/plain": [
       "0    11987\n",
       "1     3932\n",
       "Name: Inspection_New_Bool, dtype: int64"
      ]
     },
     "execution_count": 64,
     "metadata": {},
     "output_type": "execute_result"
    }
   ],
   "source": [
    "oto[\"Inspection_New_Bool\"].value_counts(dropna = False)"
   ]
  },
  {
   "cell_type": "markdown",
   "metadata": {},
   "source": [
    "### ``'Next Inspection'``"
   ]
  },
  {
   "cell_type": "code",
   "execution_count": 65,
   "metadata": {},
   "outputs": [
    {
     "data": {
      "text/plain": [
       "0.7779383127080847"
      ]
     },
     "execution_count": 65,
     "metadata": {},
     "output_type": "execute_result"
    }
   ],
   "source": [
    "oto['Next Inspection'].isnull().sum()/len(oto['Next Inspection'])"
   ]
  },
  {
   "cell_type": "code",
   "execution_count": 66,
   "metadata": {},
   "outputs": [
    {
     "data": {
      "text/plain": [
       "0         [\\n06/2021\\n, \\n99 g CO2/km (comb)\\n]\n",
       "1                                           NaN\n",
       "2                                           NaN\n",
       "3                                           NaN\n",
       "4                                           NaN\n",
       "                          ...                  \n",
       "15914                                       NaN\n",
       "15915    [\\n01/2022\\n, \\n168 g CO2/km (comb)\\n]\n",
       "15916                                       NaN\n",
       "15917                                       NaN\n",
       "15918                                       NaN\n",
       "Name: Next Inspection, Length: 15919, dtype: object"
      ]
     },
     "execution_count": 66,
     "metadata": {},
     "output_type": "execute_result"
    }
   ],
   "source": [
    "oto[\"Next Inspection\"]"
   ]
  },
  {
   "cell_type": "code",
   "execution_count": 69,
   "metadata": {},
   "outputs": [
    {
     "data": {
      "text/plain": [
       "NaN                                       12384\n",
       "\\n04/2022\\n                                  62\n",
       "\\n03/2021\\n                                  38\n",
       "\\n03/2022\\n                                  36\n",
       "\\n06/2021\\n                                  34\n",
       "                                          ...  \n",
       "[\\n04/2020\\n, \\n123 g CO2/km (comb)\\n]        1\n",
       "[\\n04/2021\\n, \\n103 g CO2/km (comb)\\n]        1\n",
       "[\\n04/2020\\n, \\n103 g CO2/km (comb)\\n]        1\n",
       "[\\n12/2019\\n, \\n103 g CO2/km (comb)\\n]        1\n",
       "[\\n04/2020\\n, \\n135 g CO2/km (comb)\\n]        1\n",
       "Name: Next Inspection, Length: 1400, dtype: int64"
      ]
     },
     "execution_count": 69,
     "metadata": {},
     "output_type": "execute_result"
    }
   ],
   "source": [
    "oto[\"Next Inspection\"].value_counts(dropna = False)"
   ]
  },
  {
   "cell_type": "code",
   "execution_count": 70,
   "metadata": {},
   "outputs": [],
   "source": [
    "nxtins_list = [\"\".join(item).strip() if type(item) == list else item for item in oto['Next Inspection']]\n",
    "oto['next_inspection'] = pd.DataFrame(nxtins_list)"
   ]
  },
  {
   "cell_type": "code",
   "execution_count": 71,
   "metadata": {},
   "outputs": [
    {
     "data": {
      "text/plain": [
       "NaN                               12384\n",
       "\\n04/2022\\n                          62\n",
       "\\n03/2021\\n                          38\n",
       "\\n03/2022\\n                          36\n",
       "\\n06/2021\\n                          34\n",
       "                                  ...  \n",
       "04/2019\\n\\nEuro 5                     1\n",
       "03/2019\\n\\n104 g CO2/km (comb)        1\n",
       "12/2020\\n\\n107 g CO2/km (comb)        1\n",
       "\\n01/1955\\n                           1\n",
       "04/2022\\n\\n135 g CO2/km (comb)        1\n",
       "Name: next_inspection, Length: 1400, dtype: int64"
      ]
     },
     "execution_count": 71,
     "metadata": {},
     "output_type": "execute_result"
    }
   ],
   "source": [
    "oto.next_inspection.value_counts(dropna = False)"
   ]
  },
  {
   "cell_type": "code",
   "execution_count": null,
   "metadata": {},
   "outputs": [],
   "source": []
  },
  {
   "cell_type": "code",
   "execution_count": null,
   "metadata": {},
   "outputs": [],
   "source": []
  },
  {
   "cell_type": "code",
   "execution_count": null,
   "metadata": {},
   "outputs": [],
   "source": []
  },
  {
   "cell_type": "code",
   "execution_count": null,
   "metadata": {},
   "outputs": [],
   "source": []
  }
 ],
 "metadata": {
  "kernelspec": {
   "display_name": "Python 3",
   "language": "python",
   "name": "python3"
  },
  "language_info": {
   "codemirror_mode": {
    "name": "ipython",
    "version": 3
   },
   "file_extension": ".py",
   "mimetype": "text/x-python",
   "name": "python",
   "nbconvert_exporter": "python",
   "pygments_lexer": "ipython3",
   "version": "3.7.4"
  }
 },
 "nbformat": 4,
 "nbformat_minor": 2
}
